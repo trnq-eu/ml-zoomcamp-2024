{
 "cells": [
  {
   "cell_type": "markdown",
   "metadata": {},
   "source": [
    "# Homework 2023"
   ]
  },
  {
   "cell_type": "markdown",
   "metadata": {},
   "source": [
    "## Question 1\n",
    "\n",
    "Which version of Pipenv.\n",
    "\n",
    "**Answer**; 2024.1.0"
   ]
  },
  {
   "cell_type": "code",
   "execution_count": 1,
   "metadata": {},
   "outputs": [
    {
     "name": "stdout",
     "output_type": "stream",
     "text": [
      "\u001b[1mpipenv\u001b[0m, version 2024.1.0\n"
     ]
    }
   ],
   "source": [
    "!pipenv --version\n"
   ]
  },
  {
   "cell_type": "markdown",
   "metadata": {},
   "source": [
    "## Question 2\n",
    "- Use Pipenv to install Scikit-Learn version 1.3.1\n",
    "- What's the first hash for scikit-learn you get in Pipfile.lock?\n",
    "\n",
    "**Answer** : \"sha256:0c275a06c5190c5ce00af0acbb61c06374087949f643ef32d355ece12c4db043\","
   ]
  },
  {
   "cell_type": "markdown",
   "metadata": {},
   "source": [
    "## Question 3\n",
    "\n",
    "- Write a script for loading these models with pickle\n",
    "- Score this client:\n",
    "\n",
    "{\"job\": \"retired\", \"duration\": 445, \"poutcome\": \"success\"}\n",
    "\n",
    "What's the probability that this client will get a credit?\n",
    "\n",
    "- 0.162\n",
    "- 0.392\n",
    "- 0.652\n",
    "- 0.902\n",
    "\n",
    "\n",
    "**Answer**: 0.902"
   ]
  },
  {
   "cell_type": "markdown",
   "metadata": {},
   "source": [
    "## Question 4\n",
    "\n",
    "Now let's serve this model as a web service\n",
    "\n",
    "Install Flask and gunicorn (or waitress, if you're on Windows)\n",
    "\n",
    "Write Flask code for serving the model\n",
    "\n",
    "Now score this client using requests:\n",
    "\n",
    "url = \"YOUR_URL\"\n",
    "client = {\"job\": \"unknown\", \"duration\": 270, \"poutcome\": \"failure\"}\n",
    "\n",
    "requests.post(url, json=client).json()\n",
    "\n",
    "What's the probability that this client will get a credit?\n",
    "\n",
    "- 0.140\n",
    "- 0.440\n",
    "- 0.645\n",
    "- 0.845"
   ]
  },
  {
   "cell_type": "markdown",
   "metadata": {},
   "source": [
    "## Question 5\n",
    "\n",
    "Download the base image svizor/zoomcamp-model:3.10.12-slim. You can easily make it by using docker pull command.\n",
    "\n",
    "So what's the size of this base image?\n",
    "\n",
    "47 MB\n",
    "147 MB\n",
    "374 MB\n",
    "574 MB\n",
    "\n",
    "**Answer**: 147 MB"
   ]
  },
  {
   "cell_type": "markdown",
   "metadata": {},
   "source": [
    "## Question 6\n",
    "\n",
    "**Answer**: {'credit_probability': 0.726936946355423}"
   ]
  }
 ],
 "metadata": {
  "kernelspec": {
   "display_name": "base",
   "language": "python",
   "name": "python3"
  },
  "language_info": {
   "codemirror_mode": {
    "name": "ipython",
    "version": 3
   },
   "file_extension": ".py",
   "mimetype": "text/x-python",
   "name": "python",
   "nbconvert_exporter": "python",
   "pygments_lexer": "ipython3",
   "version": "3.12.4"
  }
 },
 "nbformat": 4,
 "nbformat_minor": 2
}
